{
  "nbformat": 4,
  "nbformat_minor": 0,
  "metadata": {
    "colab": {
      "name": "Final_LTFS.ipynb",
      "provenance": [],
      "collapsed_sections": []
    },
    "kernelspec": {
      "name": "python3",
      "display_name": "Python 3"
    }
  },
  "cells": [
    {
      "cell_type": "code",
      "metadata": {
        "id": "3rbnnX015Zfg"
      },
      "source": [
        "import numpy as np\r\n",
        "import pandas as pd\r\n",
        "import re\r\n",
        "from sklearn.preprocessing import OneHotEncoder\r\n",
        "from sklearn.model_selection import train_test_split\r\n",
        "from sklearn.preprocessing import StandardScaler\r\n",
        "from sklearn.linear_model import SGDClassifier\r\n",
        "from sklearn.multiclass import OneVsRestClassifier\r\n",
        "from sklearn.metrics import f1_score\r\n",
        "from sklearn.model_selection import GridSearchCV\r\n",
        "from lightgbm import LGBMClassifier\r\n",
        "from sklearn.ensemble import RandomForestClassifier\r\n",
        "from sklearn.ensemble import StackingClassifier\r\n",
        "from sklearn.naive_bayes import MultinomialNB\r\n",
        "from sklearn.tree import DecisionTreeClassifier\r\n",
        "from sklearn.naive_bayes import GaussianNB"
      ],
      "execution_count": null,
      "outputs": []
    },
    {
      "cell_type": "markdown",
      "metadata": {
        "id": "CnRh7JvHKPe_"
      },
      "source": [
        "<h2><strong><font color ='blue'>Data Cleaning & Preprocessing</font></strong></h2>"
      ]
    },
    {
      "cell_type": "code",
      "metadata": {
        "colab": {
          "base_uri": "https://localhost:8080/"
        },
        "id": "iXLMMfN2Kd3o",
        "outputId": "3b01dfda-33f9-4574-9e16-a5dbd62267a8"
      },
      "source": [
        "train_data=pd.read_excel('train_Data.xlsx')\r\n",
        "train_bureau=pd.read_excel('train_bureau.xlsx')\r\n",
        "print(train_data.shape)\r\n",
        "print(train_bureau.shape)"
      ],
      "execution_count": null,
      "outputs": [
        {
          "output_type": "stream",
          "text": [
            "(128655, 26)\n",
            "(560844, 25)\n"
          ],
          "name": "stdout"
        }
      ]
    },
    {
      "cell_type": "code",
      "metadata": {
        "colab": {
          "base_uri": "https://localhost:8080/"
        },
        "id": "tly3xCiFK2fY",
        "outputId": "c95aa830-3057-4082-8ed7-a6e98fd356f5"
      },
      "source": [
        "test_data=pd.read_excel('test_Data.xlsx')\r\n",
        "test_bureau=pd.read_excel('test_bureau.xlsx')\r\n",
        "print(test_data.shape)\r\n",
        "print(test_bureau.shape)"
      ],
      "execution_count": null,
      "outputs": [
        {
          "output_type": "stream",
          "text": [
            "(14745, 25)\n",
            "(64019, 25)\n"
          ],
          "name": "stdout"
        }
      ]
    },
    {
      "cell_type": "code",
      "metadata": {
        "colab": {
          "base_uri": "https://localhost:8080/"
        },
        "id": "vhwTIXYjLBDH",
        "outputId": "ae58417a-df27-49db-fc3e-99f225396db9"
      },
      "source": [
        "print('columns with null values')\r\n",
        "for column in train_data.columns:\r\n",
        "  if train_data[column].isnull().values.any():\r\n",
        "    print(column)"
      ],
      "execution_count": null,
      "outputs": [
        {
          "output_type": "stream",
          "text": [
            "columns with null values\n",
            "Area\n",
            "MaturityDAte\n",
            "SEX\n",
            "AGE\n",
            "MonthlyIncome\n",
            "City\n",
            "ZiPCODE\n"
          ],
          "name": "stdout"
        }
      ]
    },
    {
      "cell_type": "code",
      "metadata": {
        "colab": {
          "base_uri": "https://localhost:8080/"
        },
        "id": "Y3ZBOU7rLDxh",
        "outputId": "580b0828-7f50-443f-bc70-81a49c82c7fd"
      },
      "source": [
        "print('Mean value of MonthlyIncome : ',train_data['MonthlyIncome'].mean())\r\n",
        "print('Mean value of AGE : ',train_data['AGE'].mean())"
      ],
      "execution_count": null,
      "outputs": [
        {
          "output_type": "stream",
          "text": [
            "Mean value of MonthlyIncome :  50323.60434088012\n",
            "Mean value of AGE :  40.66480294876979\n"
          ],
          "name": "stdout"
        }
      ]
    },
    {
      "cell_type": "code",
      "metadata": {
        "colab": {
          "base_uri": "https://localhost:8080/"
        },
        "id": "JOW4ytEbLFkQ",
        "outputId": "9908c39b-7aaa-418c-e451-2f37e1e7091c"
      },
      "source": [
        "train_data['SEX'].value_counts()"
      ],
      "execution_count": null,
      "outputs": [
        {
          "output_type": "execute_result",
          "data": {
            "text/plain": [
              "M    122144\n",
              "F      6452\n",
              "Name: SEX, dtype: int64"
            ]
          },
          "metadata": {
            "tags": []
          },
          "execution_count": 13
        }
      ]
    },
    {
      "cell_type": "code",
      "metadata": {
        "colab": {
          "base_uri": "https://localhost:8080/"
        },
        "id": "wTZhdAm_LHXx",
        "outputId": "8b90a9cd-17cf-4f88-f009-6d2f961a0b62"
      },
      "source": [
        "train_data['ZiPCODE'].value_counts()"
      ],
      "execution_count": null,
      "outputs": [
        {
          "output_type": "execute_result",
          "data": {
            "text/plain": [
              "125001.0    806\n",
              "125055.0    690\n",
              "584128.0    524\n",
              "125050.0    409\n",
              "334001.0    407\n",
              "           ... \n",
              "583234.0      1\n",
              "583233.0      1\n",
              "583215.0      1\n",
              "244104.0      1\n",
              "524299.0      1\n",
              "Name: ZiPCODE, Length: 9123, dtype: int64"
            ]
          },
          "metadata": {
            "tags": []
          },
          "execution_count": 14
        }
      ]
    },
    {
      "cell_type": "code",
      "metadata": {
        "id": "xG_uTJYQKlot"
      },
      "source": [
        "def filling_nan(data):\r\n",
        "  data['Area']=data['Area'].fillna('UNKNOWN')\r\n",
        "  data['SEX']=data['SEX'].fillna('M')\r\n",
        "  data['AGE']=data['AGE'].fillna(40.0)\r\n",
        "  data['MonthlyIncome']=data['MonthlyIncome'].fillna(50323.6)\r\n",
        "  data['City']=data['City'].fillna('UNKNOWN')\r\n",
        "  data['ZiPCODE']=data['ZiPCODE'].fillna(125001.0)\r\n",
        "  data['ZiPCODE']=data['ZiPCODE']/10000\r\n",
        "  return data"
      ],
      "execution_count": null,
      "outputs": []
    },
    {
      "cell_type": "code",
      "metadata": {
        "id": "JLE3oDcHKotj"
      },
      "source": [
        "train_data=filling_nan(train_data)\r\n",
        "train_data.dropna(inplace=True)\r\n",
        "train_data.shape\r\n",
        "test_data=filling_nan(test_data)\r\n",
        "test_data.fillna(0,inplace=True)"
      ],
      "execution_count": null,
      "outputs": []
    },
    {
      "cell_type": "code",
      "metadata": {
        "id": "d_-TE6vQLXWZ"
      },
      "source": [
        "category_columns=['Frequency','InstlmentMode','LoanStatus','PaymentMode','Area','SEX','City','State']\r\n",
        "labels_dict={}\r\n",
        "for col in category_columns:\r\n",
        "  unique_cat=list(train_data[col].unique())\r\n",
        "  dicts=dict((value, index) for index,value in enumerate(unique_cat))\r\n",
        "  labels_dict[col]=dicts\r\n",
        "\r\n",
        "\r\n",
        "def transform_categorical_features(columns,data):\r\n",
        "  for column in columns:\r\n",
        "    label_dict=labels_dict[column]\r\n",
        "    data[column]=data[column].apply(lambda x: label_dict[x] if x in label_dict.keys() else -1)\r\n",
        "  return data\r\n",
        "\r\n",
        "train_data=transform_categorical_features(category_columns,train_data)\r\n",
        "test_data=transform_categorical_features(category_columns,test_data)"
      ],
      "execution_count": null,
      "outputs": []
    },
    {
      "cell_type": "markdown",
      "metadata": {
        "id": "ZY2g_LnlLhjc"
      },
      "source": [
        "<h2><strong><font color ='blue'>Feature Extraction</font></strong></h2>"
      ]
    },
    {
      "cell_type": "code",
      "metadata": {
        "id": "m9GM64XEHXeX"
      },
      "source": [
        "train_data['no_of_loans']=train_data['ID'].apply(lambda id: len(train_bureau[train_bureau['ID']==id]) )\r\n",
        "test_data['no_of_loans']=test_data['ID'].apply(lambda id: len(test_bureau[train_bureau['ID']==id]) )"
      ],
      "execution_count": null,
      "outputs": []
    },
    {
      "cell_type": "markdown",
      "metadata": {
        "id": "hL8wk7nBLzux"
      },
      "source": [
        "<h2>Defining Functions needed for feature extraction </h2>"
      ]
    },
    {
      "cell_type": "code",
      "metadata": {
        "id": "KV5ZmTCmHp9P"
      },
      "source": [
        "def get_value_counts(id,data,column,categories):\r\n",
        "  '''It takes id and column to return all the category counts in that column'''\r\n",
        "  counts=data[data['ID']==id][column].value_counts()\r\n",
        "  values=[]\r\n",
        "  for cat in categories:\r\n",
        "    if cat in counts.keys():\r\n",
        "      values.append(counts[cat])\r\n",
        "    else:\r\n",
        "      values.append(0)\r\n",
        "  return values"
      ],
      "execution_count": null,
      "outputs": []
    },
    {
      "cell_type": "code",
      "metadata": {
        "id": "m14w7bGTILNm"
      },
      "source": [
        "def get_values(hist_data):\r\n",
        "  '''It takes reported date histogram values and calculates difference between each date and does median'''\r\n",
        "  if type(hist_data)!=str:\r\n",
        "    return '0'\r\n",
        "  dates=hist_data.split(',')\r\n",
        "  dates=[date for date in dates if len(date)==8]\r\n",
        "  diff_days=[]\r\n",
        "  if len(dates)>=2:\r\n",
        "    for i in range(len(dates)-1):\r\n",
        "      diff=pd.to_datetime(dates[i], format='%Y%m%d', errors='ignore')-pd.to_datetime(dates[i+1], format='%Y%m%d', errors='ignore')\r\n",
        "      diff_days.append(diff.days)\r\n",
        "  if len(dates)==1:\r\n",
        "    diff_days.append(0)\r\n",
        "  if len(dates)!=0:\r\n",
        "    return [np.mean(diff_days),np.std(diff_days),np.median(diff_days)]\r\n",
        "  else:\r\n",
        "    return '0'"
      ],
      "execution_count": null,
      "outputs": []
    },
    {
      "cell_type": "code",
      "metadata": {
        "id": "Q8F9eFtNIMp3"
      },
      "source": [
        "def get_reported_hist_feat(id,data):\r\n",
        "  '''It extracts features from reported histogram data'''\r\n",
        "  id_data=data[data['ID']==id]\r\n",
        "  values=[]\r\n",
        "  for index,row in id_data.iterrows():\r\n",
        "    hist_data=row['REPORTED DATE - HIST']\r\n",
        "    values.append(get_values(hist_data))\r\n",
        "  values=[value for value in values if value!='0']\r\n",
        "\r\n",
        "  return np.median(values,axis=0)"
      ],
      "execution_count": null,
      "outputs": []
    },
    {
      "cell_type": "code",
      "metadata": {
        "id": "umazkxD9IUZn"
      },
      "source": [
        "def get_amt_values(hist_data):\r\n",
        "  '''It extracts the values from ammount histogram data'''\r\n",
        "  if type(hist_data)!=str:\r\n",
        "    return '0'\r\n",
        "  values=hist_data\r\n",
        "  values=values.split(',')\r\n",
        "  values=[int(value.split('.')[0]) for value in values if len(value.split('.')[0])!=0]\r\n",
        "  if len(values)!=0:\r\n",
        "    return [np.mean(values),np.std(values),np.median(values)]\r\n",
        "  else:\r\n",
        "    return '0'"
      ],
      "execution_count": null,
      "outputs": []
    },
    {
      "cell_type": "code",
      "metadata": {
        "id": "TmM5N9w8IV2R"
      },
      "source": [
        "def get_amt_hist_feat(id,data,column):\r\n",
        "  '''It return features extracted from ammount histogram data'''\r\n",
        "  id_data=data[data['ID']==id]\r\n",
        "  print(id)\r\n",
        "  values=[]\r\n",
        "  for index,row in id_data.iterrows():\r\n",
        "    hist_data=row[column]\r\n",
        "    values.append(get_amt_values(hist_data))\r\n",
        "  values=[value for value in values if value!='0']\r\n",
        "  if len(values)!=0:\r\n",
        "    return np.median(values,axis=0)\r\n",
        "  else:\r\n",
        "    return [0,0,0]"
      ],
      "execution_count": null,
      "outputs": []
    },
    {
      "cell_type": "code",
      "metadata": {
        "id": "Civ1PDVdJAHR"
      },
      "source": [
        "def get_cross_tabs(data,bureau,columns_crosstab):\r\n",
        "  '''It performs crosstab operation on mentioned columns'''\r\n",
        "  for column in columns_crosstab:\r\n",
        "    data[column+' COUNTS']=data['ID'].apply(lambda id : get_value_counts(id,bureau,column,categories_dict[column]))\r\n",
        "    for index,category in enumerate(categories_dict[column]):\r\n",
        "      data[column+'_'+category]=data[column+' COUNTS'].apply(lambda x: x[index])"
      ],
      "execution_count": null,
      "outputs": []
    },
    {
      "cell_type": "code",
      "metadata": {
        "id": "TPPMJc3nJWsU"
      },
      "source": [
        "def get_seq(hist_data):\r\n",
        "  '''In DPD histogram it converts exponential values to string formated number seq'''\r\n",
        "  num_e=hist_data\r\n",
        "  pow=num_e.split('+')[1]\r\n",
        "  pre=num_e.split('E')[0].replace('.','')\r\n",
        "  seq=pre+''.join(['0' for i in range(int(pow))])\r\n",
        "\r\n",
        "  return seq"
      ],
      "execution_count": null,
      "outputs": []
    },
    {
      "cell_type": "code",
      "metadata": {
        "id": "rdLdn7PhJaKM"
      },
      "source": [
        "def get_dpd_feat(hist_data):\r\n",
        "  '''This takes DPD histograms and catgeorises id into 7 categories'''\r\n",
        "  grade_A,grade_B,grade_C,grade_D,grade_E,grade_F=0,0,0,0,0,0\r\n",
        "  if type(hist_data)!=str:\r\n",
        "    return [grade_A,grade_B,grade_C,grade_D,grade_E,grade_F]\r\n",
        "  if 'E' in hist_data:\r\n",
        "    hist_data=get_seq(hist_data)\r\n",
        "  delay_days=re.findall('...',hist_data)\r\n",
        "  for delay in delay_days:\r\n",
        "    if delay=='DDD' or delay=='XXX':\r\n",
        "      continue\r\n",
        "    if int(delay)==0:\r\n",
        "      grade_A+=1\r\n",
        "    if int(delay)>0 and int(delay)<100:\r\n",
        "      grade_B+=1\r\n",
        "    if int(delay)>=100 and int(delay)<500:\r\n",
        "      grade_C+=1\r\n",
        "    if int(delay)>=500 and int(delay)<900:\r\n",
        "      grade_D+=1\r\n",
        "    if int(delay)>=900 and int(delay)<999:\r\n",
        "      grade_E+=1\r\n",
        "    if int(delay)==999 :\r\n",
        "      grade_F+=1\r\n",
        "  return [grade_A,grade_B,grade_C,grade_D,grade_E,grade_F]"
      ],
      "execution_count": null,
      "outputs": []
    },
    {
      "cell_type": "code",
      "metadata": {
        "id": "OD5dXdlbJdUI"
      },
      "source": [
        "def extract_dpd_feat(data,bureau):\r\n",
        "  '''EXtracts DPD features'''\r\n",
        "  bureau['dpd_feat']=bureau['DPD - HIST'].apply(lambda hist_data: get_dpd_feat(hist_data))\r\n",
        "  data['dpd_feat']=data['ID'].apply(lambda id : np.sum(list(bureau[bureau['ID']==id]['dpd_feat'].values),axis=0))\r\n",
        "  \r\n",
        "  data['dpd_gradeA']=data['dpd_feat'].apply(lambda x : x[0])\r\n",
        "  data['dpd_gradeB']=data['dpd_feat'].apply(lambda x : x[1])\r\n",
        "  data['dpd_gradeC']=data['dpd_feat'].apply(lambda x : x[2])\r\n",
        "  data['dpd_gradeD']=data['dpd_feat'].apply(lambda x : x[3])\r\n",
        "  data['dpd_gradeE']=data['dpd_feat'].apply(lambda x : x[4])\r\n",
        "  data['dpd_gradeF']=data['dpd_feat'].apply(lambda x : x[5])"
      ],
      "execution_count": null,
      "outputs": []
    },
    {
      "cell_type": "code",
      "metadata": {
        "id": "WxfOymNrJgZg"
      },
      "source": [
        "def get_asset_class_feat(data,bureau):\r\n",
        "  '''Extracts asset-class features'''\r\n",
        "  categories=['Standard','SubStandard','Special Mention Account','Doubtful','Loss','1']\r\n",
        "  for category in categories:\r\n",
        "    data['Is Asset class '+category]=data['ID'].apply(lambda id: 1 if category in list(bureau[bureau['ID']==id]['ASSET_CLASS'].values) else 0)"
      ],
      "execution_count": null,
      "outputs": []
    },
    {
      "cell_type": "code",
      "metadata": {
        "id": "c8bZwH80MZhx"
      },
      "source": [
        "def extract_features(data,bureau):\r\n",
        "\r\n",
        " data['self_indicator_values']=data['ID'].apply(lambda id: get_value_counts(id,bureau,'SELF-INDICATOR',[True,False]))\r\n",
        " data['self_indicator_true']=data['self_indicator_values'].apply(lambda x: x[0])\r\n",
        " data['self_indicator_false']=data['self_indicator_values'].apply(lambda x: x[1])\r\n",
        "\r\n",
        "\r\n",
        " data['self_indicator_false']=data['self_indicator_false']/data['no_of_loans']\r\n",
        " data['self_indicator_true']=data['self_indicator_true']/data['no_of_loans']\r\n",
        "\r\n",
        "\r\n",
        " data['total_disbursal_amt(in lakhs)']=data['ID'].apply(lambda id: bureau[bureau['ID']==id]['DISBURSED-AMT/HIGH CREDIT'].sum()/100000)\r\n",
        " data['avg_disbursal_amt']=data['total_disbursal_amt(in lakhs)']/data['no_of_loans']\r\n",
        "\r\n",
        " data['total_cur_bal(in lakhs)']=data['ID'].apply(lambda id: bureau[bureau['ID']==id]['CURRENT-BAL'].sum()/100000)\r\n",
        " data['avg_cur_bal']=data['total_cur_bal(in lakhs)']/data['no_of_loans']\r\n",
        "\r\n",
        "\r\n",
        " data['reported_hist_feat']=data['ID'].apply(lambda id: get_reported_hist_feat(id,bureau))\r\n",
        " data['reported_hist_median_mean']=data['reported_hist_feat'].apply(lambda x : x[0])\r\n",
        " data['reported_hist_median_std']=data['reported_hist_feat'].apply(lambda x : x[1])\r\n",
        " data['reported_hist_median_median']=data['reported_hist_feat'].apply(lambda x : x[2])\r\n",
        "\r\n",
        "\r\n",
        " data['cur_bal_hist_feat']=data['ID'].apply(lambda id: get_amt_hist_feat(id,bureau,'CUR BAL - HIST'))\r\n",
        " data['cur_bal_hist_median_mean']=data['cur_bal_hist_feat'].apply(lambda x : x[0])\r\n",
        " data['cur_bal_hist_median_std']=data['cur_bal_hist_feat'].apply(lambda x : x[1] )\r\n",
        " data['cur_bal_hist_median_median']=data['cur_bal_hist_feat'].apply(lambda x : x[2] )\r\n",
        "\r\n",
        " data['amt_overdue_hist_feat']=data['ID'].apply(lambda id: get_amt_hist_feat(id,bureau,'AMT OVERDUE - HIST'))\r\n",
        " data['amt_overdue_hist_median_mean']=data['amt_overdue_hist_feat'].apply(lambda x : x[0])\r\n",
        " data['amt_overdue__hist_median_std']=data['amt_overdue_hist_feat'].apply(lambda x : x[1] )\r\n",
        " data['amt_overdue__hist_median_median']=data['amt_overdue_hist_feat'].apply(lambda x : x[2] )\r\n",
        "\r\n",
        " data['amt_paid_hist_feat']=data['ID'].apply(lambda id: get_amt_hist_feat(id,bureau,'AMT PAID - HIST'))\r\n",
        " data['amt_paid_hist_median_mean']=data['amt_paid_hist_feat'].apply(lambda x : x[0])\r\n",
        " data['amt_paid__hist_median_std']=data['amt_paid_hist_feat'].apply(lambda x : x[1] )\r\n",
        " data['amt_paid__hist_median_median']=data['amt_paid_hist_feat'].apply(lambda x : x[2] )\r\n",
        "\r\n",
        "\r\n",
        " data['cur_bal_hist_median_mean']=data['cur_bal_hist_median_mean']/100000\r\n",
        " data['cur_bal_hist_median_std']=data['cur_bal_hist_median_std']/100000\r\n",
        " data['cur_bal_hist_median_median']=data['cur_bal_hist_median_median']/100000\r\n",
        " data['amt_paid_hist_median_mean']=data['amt_paid_hist_median_mean']/100000\r\n",
        " data['amt_paid__hist_median_std']=data['amt_paid__hist_median_std']/100000\r\n",
        " data['amt_paid__hist_median_median']=data['amt_paid__hist_median_median']/100000\r\n",
        " data['amt_overdue_hist_median_mean']=data['amt_overdue_hist_median_mean']/100000\r\n",
        " data['amt_overdue__hist_median_std']=data['amt_overdue__hist_median_std']/100000\r\n",
        " data['amt_overdue__hist_median_median']=data['amt_overdue__hist_median_median']/100000"
      ],
      "execution_count": null,
      "outputs": []
    },
    {
      "cell_type": "code",
      "metadata": {
        "id": "ptTJJSbeUFv6"
      },
      "source": [
        "categories_dict={}\r\n",
        "columns_crosstab=['OWNERSHIP-IND','CONTRIBUTOR-TYPE','ACCOUNT-STATUS','ACCT-TYPE']\r\n",
        "for column in columns_crosstab:\r\n",
        "  categories_dict[column]=list(train_bureau[column].unique())\r\n",
        "\r\n",
        "get_cross_tabs(train_data,train_bureau)\r\n",
        "get_cross_tabs(test_data,test_bureau)\r\n",
        "\r\n",
        "extract_dpd_feat(train_data,train_bureau)\r\n",
        "extract_dpd_feat(test_data,test_bureau)\r\n",
        "  \r\n",
        "get_asset_class_feat(train_data,train_bureau)\r\n",
        "get_asset_class_feat(test_data,test_bureau)"
      ],
      "execution_count": null,
      "outputs": []
    },
    {
      "cell_type": "code",
      "metadata": {
        "id": "2ajAiM9sOlJx"
      },
      "source": [
        "extract_features(train_data,train_bureau)\r\n",
        "extract_features(test_data,test_bureau)"
      ],
      "execution_count": null,
      "outputs": []
    },
    {
      "cell_type": "code",
      "metadata": {
        "id": "DbE2TjeWQo4b"
      },
      "source": [
        "to_remove_features=['AssetID','self_indicator_values','reported_hist_feat','cur_bal_hist_feat','amt_overdue_hist_feat','dpd_feat',\r\n",
        "                                     'amt_paid_hist_feat','OWNERSHIP-IND COUNTS','CONTRIBUTOR-TYPE COUNTS','ACCOUNT-STATUS COUNTS','ACCT-TYPE COUNTS']\r\n",
        "\r\n",
        "#Removing unnecessary columns\r\n",
        "\r\n",
        "train_data.drop(to_remove_features,axis=1,inplace=True)\r\n",
        "test_data.drop(to_remove_features,axis=1,inplace=True)"
      ],
      "execution_count": null,
      "outputs": []
    },
    {
      "cell_type": "code",
      "metadata": {
        "colab": {
          "base_uri": "https://localhost:8080/",
          "height": 474
        },
        "id": "0fTBuLrEUcGI",
        "outputId": "bf389b74-f4b7-4439-954d-5aa56734b2ea"
      },
      "source": [
        "train_data.head()"
      ],
      "execution_count": null,
      "outputs": [
        {
          "output_type": "execute_result",
          "data": {
            "text/html": [
              "<div>\n",
              "<style scoped>\n",
              "    .dataframe tbody tr th:only-of-type {\n",
              "        vertical-align: middle;\n",
              "    }\n",
              "\n",
              "    .dataframe tbody tr th {\n",
              "        vertical-align: top;\n",
              "    }\n",
              "\n",
              "    .dataframe thead th {\n",
              "        text-align: right;\n",
              "    }\n",
              "</style>\n",
              "<table border=\"1\" class=\"dataframe\">\n",
              "  <thead>\n",
              "    <tr style=\"text-align: right;\">\n",
              "      <th></th>\n",
              "      <th>ID</th>\n",
              "      <th>Frequency</th>\n",
              "      <th>InstlmentMode</th>\n",
              "      <th>LoanStatus</th>\n",
              "      <th>PaymentMode</th>\n",
              "      <th>BranchID</th>\n",
              "      <th>Area</th>\n",
              "      <th>Tenure</th>\n",
              "      <th>AssetCost</th>\n",
              "      <th>AmountFinance</th>\n",
              "      <th>DisbursalAmount</th>\n",
              "      <th>EMI</th>\n",
              "      <th>ManufacturerID</th>\n",
              "      <th>SupplierID</th>\n",
              "      <th>LTV</th>\n",
              "      <th>SEX</th>\n",
              "      <th>AGE</th>\n",
              "      <th>MonthlyIncome</th>\n",
              "      <th>City</th>\n",
              "      <th>State</th>\n",
              "      <th>ZiPCODE</th>\n",
              "      <th>no_of_loans</th>\n",
              "      <th>self_indicator_true</th>\n",
              "      <th>self_indicator_false</th>\n",
              "      <th>avg_disbursal_amt</th>\n",
              "      <th>total_disbursal_amt(in lakhs)</th>\n",
              "      <th>total_cur_bal(in lakhs)</th>\n",
              "      <th>avg_cur_bal</th>\n",
              "      <th>reported_hist_median_mean</th>\n",
              "      <th>reported_hist_median_std</th>\n",
              "      <th>reported_hist_median_median</th>\n",
              "      <th>cur_bal_hist_median_mean</th>\n",
              "      <th>cur_bal_hist_median_std</th>\n",
              "      <th>cur_bal_hist_median_median</th>\n",
              "      <th>amt_overdue_hist_median_mean</th>\n",
              "      <th>amt_overdue__hist_median_std</th>\n",
              "      <th>amt_overdue__hist_median_median</th>\n",
              "      <th>amt_paid_hist_median_mean</th>\n",
              "      <th>amt_paid__hist_median_std</th>\n",
              "      <th>amt_paid__hist_median_median</th>\n",
              "      <th>...</th>\n",
              "      <th>ACCT-TYPE_Microfinance Housing Loan</th>\n",
              "      <th>ACCT-TYPE_Loan on Credit Card</th>\n",
              "      <th>ACCT-TYPE_Microfinance Personal Loan</th>\n",
              "      <th>ACCT-TYPE_Telco Landline</th>\n",
              "      <th>ACCT-TYPE_SHG Group</th>\n",
              "      <th>ACCT-TYPE_Business Non-Funded Credit Facility-Priority Sector-Others</th>\n",
              "      <th>dpd_gradeA</th>\n",
              "      <th>dpd_gradeB</th>\n",
              "      <th>dpd_gradeC</th>\n",
              "      <th>dpd_gradeD</th>\n",
              "      <th>dpd_gradeE</th>\n",
              "      <th>dpd_gradeF</th>\n",
              "      <th>DisbursalDate_year</th>\n",
              "      <th>DisbursalDate_month</th>\n",
              "      <th>DisbursalDate_week</th>\n",
              "      <th>DisbursalDate_day</th>\n",
              "      <th>DisbursalDate_hour</th>\n",
              "      <th>DisbursalDate_minute</th>\n",
              "      <th>DisbursalDate_dayofweek</th>\n",
              "      <th>MaturityDAte_year</th>\n",
              "      <th>MaturityDAte_month</th>\n",
              "      <th>MaturityDAte_week</th>\n",
              "      <th>MaturityDAte_day</th>\n",
              "      <th>MaturityDAte_hour</th>\n",
              "      <th>MaturityDAte_minute</th>\n",
              "      <th>MaturityDAte_dayofweek</th>\n",
              "      <th>AuthDate_year</th>\n",
              "      <th>AuthDate_month</th>\n",
              "      <th>AuthDate_week</th>\n",
              "      <th>AuthDate_day</th>\n",
              "      <th>AuthDate_hour</th>\n",
              "      <th>AuthDate_minute</th>\n",
              "      <th>AuthDate_dayofweek</th>\n",
              "      <th>Is Asset class Standard</th>\n",
              "      <th>Is Asset class SubStandard</th>\n",
              "      <th>Is Asset class Special Mention Account</th>\n",
              "      <th>Is Asset class Doubtful</th>\n",
              "      <th>Is Asset class Loss</th>\n",
              "      <th>Is Asset class 1</th>\n",
              "      <th>Top-up Month</th>\n",
              "    </tr>\n",
              "  </thead>\n",
              "  <tbody>\n",
              "    <tr>\n",
              "      <th>0</th>\n",
              "      <td>1</td>\n",
              "      <td>0</td>\n",
              "      <td>0</td>\n",
              "      <td>0</td>\n",
              "      <td>0</td>\n",
              "      <td>1</td>\n",
              "      <td>0</td>\n",
              "      <td>48</td>\n",
              "      <td>4.50000</td>\n",
              "      <td>2.75000</td>\n",
              "      <td>2.75000</td>\n",
              "      <td>0.240</td>\n",
              "      <td>1568</td>\n",
              "      <td>21946</td>\n",
              "      <td>61.11</td>\n",
              "      <td>0</td>\n",
              "      <td>49.0</td>\n",
              "      <td>0.358333</td>\n",
              "      <td>0</td>\n",
              "      <td>0</td>\n",
              "      <td>46.4993</td>\n",
              "      <td>9</td>\n",
              "      <td>0.555556</td>\n",
              "      <td>0.444444</td>\n",
              "      <td>2.445947</td>\n",
              "      <td>22.01352</td>\n",
              "      <td>6.18526</td>\n",
              "      <td>0.687251</td>\n",
              "      <td>30.428571</td>\n",
              "      <td>0.842650</td>\n",
              "      <td>31.0</td>\n",
              "      <td>1.256689</td>\n",
              "      <td>0.180733</td>\n",
              "      <td>1.251155</td>\n",
              "      <td>0.009621</td>\n",
              "      <td>0.0</td>\n",
              "      <td>0.01019</td>\n",
              "      <td>0.000000</td>\n",
              "      <td>0.000000</td>\n",
              "      <td>0.00000</td>\n",
              "      <td>...</td>\n",
              "      <td>0</td>\n",
              "      <td>0</td>\n",
              "      <td>0</td>\n",
              "      <td>0</td>\n",
              "      <td>0</td>\n",
              "      <td>0</td>\n",
              "      <td>113</td>\n",
              "      <td>75</td>\n",
              "      <td>0</td>\n",
              "      <td>0</td>\n",
              "      <td>0</td>\n",
              "      <td>0</td>\n",
              "      <td>2012</td>\n",
              "      <td>2</td>\n",
              "      <td>6</td>\n",
              "      <td>10</td>\n",
              "      <td>0</td>\n",
              "      <td>0</td>\n",
              "      <td>4</td>\n",
              "      <td>2016</td>\n",
              "      <td>1</td>\n",
              "      <td>2</td>\n",
              "      <td>15</td>\n",
              "      <td>0</td>\n",
              "      <td>0</td>\n",
              "      <td>4</td>\n",
              "      <td>2012</td>\n",
              "      <td>2</td>\n",
              "      <td>6</td>\n",
              "      <td>10</td>\n",
              "      <td>0</td>\n",
              "      <td>0</td>\n",
              "      <td>4</td>\n",
              "      <td>1</td>\n",
              "      <td>0</td>\n",
              "      <td>0</td>\n",
              "      <td>0</td>\n",
              "      <td>0</td>\n",
              "      <td>0</td>\n",
              "      <td>&gt; 48 Months</td>\n",
              "    </tr>\n",
              "    <tr>\n",
              "      <th>1</th>\n",
              "      <td>2</td>\n",
              "      <td>0</td>\n",
              "      <td>1</td>\n",
              "      <td>0</td>\n",
              "      <td>1</td>\n",
              "      <td>333</td>\n",
              "      <td>1</td>\n",
              "      <td>47</td>\n",
              "      <td>4.85000</td>\n",
              "      <td>3.50000</td>\n",
              "      <td>3.50000</td>\n",
              "      <td>0.105</td>\n",
              "      <td>1062</td>\n",
              "      <td>34802</td>\n",
              "      <td>70.00</td>\n",
              "      <td>0</td>\n",
              "      <td>23.0</td>\n",
              "      <td>0.006667</td>\n",
              "      <td>1</td>\n",
              "      <td>0</td>\n",
              "      <td>46.6001</td>\n",
              "      <td>13</td>\n",
              "      <td>0.076923</td>\n",
              "      <td>0.923077</td>\n",
              "      <td>13.936216</td>\n",
              "      <td>181.17081</td>\n",
              "      <td>103.49457</td>\n",
              "      <td>7.961121</td>\n",
              "      <td>30.416667</td>\n",
              "      <td>0.842650</td>\n",
              "      <td>31.0</td>\n",
              "      <td>4.658945</td>\n",
              "      <td>1.286095</td>\n",
              "      <td>4.364365</td>\n",
              "      <td>0.000000</td>\n",
              "      <td>0.0</td>\n",
              "      <td>0.00000</td>\n",
              "      <td>0.385600</td>\n",
              "      <td>0.000022</td>\n",
              "      <td>0.20315</td>\n",
              "      <td>...</td>\n",
              "      <td>0</td>\n",
              "      <td>0</td>\n",
              "      <td>0</td>\n",
              "      <td>0</td>\n",
              "      <td>0</td>\n",
              "      <td>0</td>\n",
              "      <td>179</td>\n",
              "      <td>31</td>\n",
              "      <td>0</td>\n",
              "      <td>0</td>\n",
              "      <td>0</td>\n",
              "      <td>0</td>\n",
              "      <td>2012</td>\n",
              "      <td>3</td>\n",
              "      <td>13</td>\n",
              "      <td>31</td>\n",
              "      <td>0</td>\n",
              "      <td>0</td>\n",
              "      <td>5</td>\n",
              "      <td>2016</td>\n",
              "      <td>2</td>\n",
              "      <td>7</td>\n",
              "      <td>15</td>\n",
              "      <td>0</td>\n",
              "      <td>0</td>\n",
              "      <td>0</td>\n",
              "      <td>2012</td>\n",
              "      <td>3</td>\n",
              "      <td>13</td>\n",
              "      <td>31</td>\n",
              "      <td>0</td>\n",
              "      <td>0</td>\n",
              "      <td>5</td>\n",
              "      <td>1</td>\n",
              "      <td>0</td>\n",
              "      <td>0</td>\n",
              "      <td>0</td>\n",
              "      <td>0</td>\n",
              "      <td>0</td>\n",
              "      <td>No Top-up Service</td>\n",
              "    </tr>\n",
              "    <tr>\n",
              "      <th>2</th>\n",
              "      <td>3</td>\n",
              "      <td>1</td>\n",
              "      <td>0</td>\n",
              "      <td>1</td>\n",
              "      <td>2</td>\n",
              "      <td>1</td>\n",
              "      <td>0</td>\n",
              "      <td>68</td>\n",
              "      <td>6.90000</td>\n",
              "      <td>5.19728</td>\n",
              "      <td>5.19728</td>\n",
              "      <td>0.383</td>\n",
              "      <td>1060</td>\n",
              "      <td>127335</td>\n",
              "      <td>69.77</td>\n",
              "      <td>0</td>\n",
              "      <td>39.0</td>\n",
              "      <td>0.452570</td>\n",
              "      <td>2</td>\n",
              "      <td>0</td>\n",
              "      <td>46.2030</td>\n",
              "      <td>31</td>\n",
              "      <td>0.064516</td>\n",
              "      <td>0.935484</td>\n",
              "      <td>1.196248</td>\n",
              "      <td>37.08369</td>\n",
              "      <td>20.65165</td>\n",
              "      <td>0.666182</td>\n",
              "      <td>30.421053</td>\n",
              "      <td>0.815365</td>\n",
              "      <td>31.0</td>\n",
              "      <td>0.406565</td>\n",
              "      <td>0.110529</td>\n",
              "      <td>0.462500</td>\n",
              "      <td>0.000000</td>\n",
              "      <td>0.0</td>\n",
              "      <td>0.00000</td>\n",
              "      <td>0.052318</td>\n",
              "      <td>0.030938</td>\n",
              "      <td>0.01894</td>\n",
              "      <td>...</td>\n",
              "      <td>0</td>\n",
              "      <td>0</td>\n",
              "      <td>0</td>\n",
              "      <td>0</td>\n",
              "      <td>0</td>\n",
              "      <td>0</td>\n",
              "      <td>118</td>\n",
              "      <td>32</td>\n",
              "      <td>3</td>\n",
              "      <td>2</td>\n",
              "      <td>1</td>\n",
              "      <td>0</td>\n",
              "      <td>2017</td>\n",
              "      <td>6</td>\n",
              "      <td>24</td>\n",
              "      <td>17</td>\n",
              "      <td>0</td>\n",
              "      <td>0</td>\n",
              "      <td>5</td>\n",
              "      <td>2023</td>\n",
              "      <td>2</td>\n",
              "      <td>6</td>\n",
              "      <td>10</td>\n",
              "      <td>0</td>\n",
              "      <td>0</td>\n",
              "      <td>4</td>\n",
              "      <td>2017</td>\n",
              "      <td>6</td>\n",
              "      <td>24</td>\n",
              "      <td>17</td>\n",
              "      <td>0</td>\n",
              "      <td>0</td>\n",
              "      <td>5</td>\n",
              "      <td>1</td>\n",
              "      <td>0</td>\n",
              "      <td>0</td>\n",
              "      <td>0</td>\n",
              "      <td>0</td>\n",
              "      <td>0</td>\n",
              "      <td>12-18 Months</td>\n",
              "    </tr>\n",
              "    <tr>\n",
              "      <th>3</th>\n",
              "      <td>7</td>\n",
              "      <td>0</td>\n",
              "      <td>1</td>\n",
              "      <td>0</td>\n",
              "      <td>3</td>\n",
              "      <td>125</td>\n",
              "      <td>2</td>\n",
              "      <td>48</td>\n",
              "      <td>4.80000</td>\n",
              "      <td>4.00000</td>\n",
              "      <td>4.00000</td>\n",
              "      <td>0.116</td>\n",
              "      <td>1060</td>\n",
              "      <td>25094</td>\n",
              "      <td>80.92</td>\n",
              "      <td>0</td>\n",
              "      <td>24.0</td>\n",
              "      <td>0.208333</td>\n",
              "      <td>3</td>\n",
              "      <td>0</td>\n",
              "      <td>47.3335</td>\n",
              "      <td>4</td>\n",
              "      <td>0.500000</td>\n",
              "      <td>0.500000</td>\n",
              "      <td>3.181382</td>\n",
              "      <td>12.72553</td>\n",
              "      <td>6.24000</td>\n",
              "      <td>1.560000</td>\n",
              "      <td>30.464286</td>\n",
              "      <td>0.813405</td>\n",
              "      <td>31.0</td>\n",
              "      <td>1.748441</td>\n",
              "      <td>0.743997</td>\n",
              "      <td>1.952077</td>\n",
              "      <td>0.000000</td>\n",
              "      <td>0.0</td>\n",
              "      <td>0.00000</td>\n",
              "      <td>0.000000</td>\n",
              "      <td>0.000000</td>\n",
              "      <td>0.00000</td>\n",
              "      <td>...</td>\n",
              "      <td>0</td>\n",
              "      <td>0</td>\n",
              "      <td>0</td>\n",
              "      <td>0</td>\n",
              "      <td>0</td>\n",
              "      <td>0</td>\n",
              "      <td>79</td>\n",
              "      <td>0</td>\n",
              "      <td>0</td>\n",
              "      <td>0</td>\n",
              "      <td>0</td>\n",
              "      <td>0</td>\n",
              "      <td>2013</td>\n",
              "      <td>11</td>\n",
              "      <td>48</td>\n",
              "      <td>29</td>\n",
              "      <td>0</td>\n",
              "      <td>0</td>\n",
              "      <td>4</td>\n",
              "      <td>2017</td>\n",
              "      <td>11</td>\n",
              "      <td>45</td>\n",
              "      <td>10</td>\n",
              "      <td>0</td>\n",
              "      <td>0</td>\n",
              "      <td>4</td>\n",
              "      <td>2013</td>\n",
              "      <td>11</td>\n",
              "      <td>48</td>\n",
              "      <td>29</td>\n",
              "      <td>0</td>\n",
              "      <td>0</td>\n",
              "      <td>4</td>\n",
              "      <td>0</td>\n",
              "      <td>0</td>\n",
              "      <td>0</td>\n",
              "      <td>0</td>\n",
              "      <td>0</td>\n",
              "      <td>0</td>\n",
              "      <td>&gt; 48 Months</td>\n",
              "    </tr>\n",
              "    <tr>\n",
              "      <th>4</th>\n",
              "      <td>8</td>\n",
              "      <td>0</td>\n",
              "      <td>0</td>\n",
              "      <td>0</td>\n",
              "      <td>3</td>\n",
              "      <td>152</td>\n",
              "      <td>3</td>\n",
              "      <td>44</td>\n",
              "      <td>6.19265</td>\n",
              "      <td>4.40000</td>\n",
              "      <td>4.40000</td>\n",
              "      <td>0.150</td>\n",
              "      <td>1046</td>\n",
              "      <td>21853</td>\n",
              "      <td>71.05</td>\n",
              "      <td>0</td>\n",
              "      <td>56.0</td>\n",
              "      <td>0.273137</td>\n",
              "      <td>4</td>\n",
              "      <td>1</td>\n",
              "      <td>49.5442</td>\n",
              "      <td>7</td>\n",
              "      <td>0.142857</td>\n",
              "      <td>0.857143</td>\n",
              "      <td>2.893166</td>\n",
              "      <td>20.25216</td>\n",
              "      <td>9.74119</td>\n",
              "      <td>1.391599</td>\n",
              "      <td>30.416667</td>\n",
              "      <td>0.868496</td>\n",
              "      <td>31.0</td>\n",
              "      <td>1.178993</td>\n",
              "      <td>0.429246</td>\n",
              "      <td>1.721090</td>\n",
              "      <td>0.000000</td>\n",
              "      <td>0.0</td>\n",
              "      <td>0.00000</td>\n",
              "      <td>0.197883</td>\n",
              "      <td>0.034589</td>\n",
              "      <td>0.17760</td>\n",
              "      <td>...</td>\n",
              "      <td>0</td>\n",
              "      <td>0</td>\n",
              "      <td>0</td>\n",
              "      <td>0</td>\n",
              "      <td>0</td>\n",
              "      <td>0</td>\n",
              "      <td>86</td>\n",
              "      <td>15</td>\n",
              "      <td>4</td>\n",
              "      <td>0</td>\n",
              "      <td>0</td>\n",
              "      <td>0</td>\n",
              "      <td>2011</td>\n",
              "      <td>12</td>\n",
              "      <td>49</td>\n",
              "      <td>8</td>\n",
              "      <td>0</td>\n",
              "      <td>0</td>\n",
              "      <td>3</td>\n",
              "      <td>2015</td>\n",
              "      <td>7</td>\n",
              "      <td>27</td>\n",
              "      <td>5</td>\n",
              "      <td>0</td>\n",
              "      <td>0</td>\n",
              "      <td>6</td>\n",
              "      <td>2011</td>\n",
              "      <td>12</td>\n",
              "      <td>49</td>\n",
              "      <td>8</td>\n",
              "      <td>0</td>\n",
              "      <td>0</td>\n",
              "      <td>3</td>\n",
              "      <td>1</td>\n",
              "      <td>0</td>\n",
              "      <td>0</td>\n",
              "      <td>0</td>\n",
              "      <td>0</td>\n",
              "      <td>0</td>\n",
              "      <td>36-48 Months</td>\n",
              "    </tr>\n",
              "  </tbody>\n",
              "</table>\n",
              "<p>5 rows × 152 columns</p>\n",
              "</div>"
            ],
            "text/plain": [
              "   ID  Frequency  ...  Is Asset class 1       Top-up Month\n",
              "0   1          0  ...                 0        > 48 Months\n",
              "1   2          0  ...                 0  No Top-up Service\n",
              "2   3          1  ...                 0       12-18 Months\n",
              "3   7          0  ...                 0        > 48 Months\n",
              "4   8          0  ...                 0       36-48 Months\n",
              "\n",
              "[5 rows x 152 columns]"
            ]
          },
          "metadata": {
            "tags": []
          },
          "execution_count": 42
        }
      ]
    },
    {
      "cell_type": "markdown",
      "metadata": {
        "id": "5wCNkcvQQzPm"
      },
      "source": [
        "<h2><strong><font color ='blue'>Modeling</font></strong></h2>"
      ]
    },
    {
      "cell_type": "code",
      "metadata": {
        "colab": {
          "base_uri": "https://localhost:8080/"
        },
        "id": "XQti1wiaRFrR",
        "outputId": "a5901ffe-cd24-4e11-b830-160f6b2c9e50"
      },
      "source": [
        "X_train=train_data.drop(['ID','Top-up Month'],axis=1)\r\n",
        "y_train=pd.DataFrame(train_data['Top-up Month'],columns=['Top-up Month'])\r\n",
        "X_test=test_data.drop(['ID'],axis=1)\r\n",
        "print(X_train.shape)\r\n",
        "print(y_train.shape)\r\n",
        "print(X_test.shape)"
      ],
      "execution_count": null,
      "outputs": [
        {
          "output_type": "stream",
          "text": [
            "(128654, 150)\n",
            "(128654, 1)\n",
            "(14745, 150)\n"
          ],
          "name": "stdout"
        }
      ]
    },
    {
      "cell_type": "code",
      "metadata": {
        "colab": {
          "base_uri": "https://localhost:8080/",
          "height": 111
        },
        "id": "9rT61jJWRH05",
        "outputId": "e9ae5f3f-f246-4304-ab13-3c3024049e76"
      },
      "source": [
        "ohe_target=OneHotEncoder()\r\n",
        "y_train=ohe_target.fit_transform(y_train)\r\n",
        "y_train=y_train.toarray()\r\n",
        "y_train=pd.DataFrame(y_train,columns=ohe_target.categories_)\r\n",
        "y_train.head(2)"
      ],
      "execution_count": null,
      "outputs": [
        {
          "output_type": "execute_result",
          "data": {
            "text/html": [
              "<div>\n",
              "<style scoped>\n",
              "    .dataframe tbody tr th:only-of-type {\n",
              "        vertical-align: middle;\n",
              "    }\n",
              "\n",
              "    .dataframe tbody tr th {\n",
              "        vertical-align: top;\n",
              "    }\n",
              "\n",
              "    .dataframe thead tr th {\n",
              "        text-align: left;\n",
              "    }\n",
              "</style>\n",
              "<table border=\"1\" class=\"dataframe\">\n",
              "  <thead>\n",
              "    <tr>\n",
              "      <th></th>\n",
              "      <th>&gt; 48 Months</th>\n",
              "      <th>12-18 Months</th>\n",
              "      <th>18-24 Months</th>\n",
              "      <th>24-30 Months</th>\n",
              "      <th>30-36 Months</th>\n",
              "      <th>36-48 Months</th>\n",
              "      <th>No Top-up Service</th>\n",
              "    </tr>\n",
              "  </thead>\n",
              "  <tbody>\n",
              "    <tr>\n",
              "      <th>0</th>\n",
              "      <td>1.0</td>\n",
              "      <td>0.0</td>\n",
              "      <td>0.0</td>\n",
              "      <td>0.0</td>\n",
              "      <td>0.0</td>\n",
              "      <td>0.0</td>\n",
              "      <td>0.0</td>\n",
              "    </tr>\n",
              "    <tr>\n",
              "      <th>1</th>\n",
              "      <td>0.0</td>\n",
              "      <td>0.0</td>\n",
              "      <td>0.0</td>\n",
              "      <td>0.0</td>\n",
              "      <td>0.0</td>\n",
              "      <td>0.0</td>\n",
              "      <td>1.0</td>\n",
              "    </tr>\n",
              "  </tbody>\n",
              "</table>\n",
              "</div>"
            ],
            "text/plain": [
              "   > 48 Months 12-18 Months  ... 36-48 Months No Top-up Service\n",
              "0          1.0          0.0  ...          0.0               0.0\n",
              "1          0.0          0.0  ...          0.0               1.0\n",
              "\n",
              "[2 rows x 7 columns]"
            ]
          },
          "metadata": {
            "tags": []
          },
          "execution_count": 52
        }
      ]
    },
    {
      "cell_type": "code",
      "metadata": {
        "id": "UHMPFlioRJu5"
      },
      "source": [
        "X_train, X_cv, y_train, y_cv = train_test_split(X_train, y_train,stratify=y_train, test_size=0.3, random_state=42)"
      ],
      "execution_count": null,
      "outputs": []
    },
    {
      "cell_type": "code",
      "metadata": {
        "id": "ugubF6pOWEmK"
      },
      "source": [
        "scalar=StandardScaler()\r\n",
        "X_standardized_train=scalar.fit_transform(X_train)\r\n",
        "X_standardized_cv=scalar.transform(X_cv)\r\n",
        "X_standardized_test=scalar.transform(X_test)\r\n",
        "\r\n",
        "X_train=pd.DataFrame(X_standardized_train,columns=X_train.columns)\r\n",
        "X_cv=pd.DataFrame(X_standardized_cv,columns=X_cv.columns)\r\n",
        "X_test=pd.DataFrame(X_standardized_test,columns=X_test.columns)"
      ],
      "execution_count": null,
      "outputs": []
    },
    {
      "cell_type": "code",
      "metadata": {
        "id": "X-A-AinOTbak"
      },
      "source": [
        "labels=[' > 48 Months','12-18 Months','18-24 Months','24-30 Months','30-36 Months','36-48 Months','No Top-up Service']"
      ],
      "execution_count": null,
      "outputs": []
    },
    {
      "cell_type": "code",
      "metadata": {
        "id": "SeCDVuWvTdJj"
      },
      "source": [
        "def train_base_model(cat,depth=12,estimators=150):\r\n",
        "  clf=RandomForestClassifier(max_depth=depth,n_estimators=estimators,class_weight='balanced',n_jobs=-1,random_state=42)\r\n",
        "  clf.fit(X_train,np.ravel(y_train[cat]))\r\n",
        "\r\n",
        "  y_pred=clf.predict(X_train)\r\n",
        "  y_pred_train[cat[0]]=y_pred\r\n",
        "  F1_score=f1_score(np.ravel(y_train[cat]),y_pred,average='macro')\r\n",
        "  print('Train '+cat[0]+' F1-Score : ',F1_score)\r\n",
        "  \r\n",
        "  y_pred=clf.predict(X_cv)\r\n",
        "  y_pred_cv[cat[0]]=y_pred\r\n",
        "  F1_score=f1_score(np.ravel(y_cv[cat]),y_pred,average='macro')\r\n",
        "  print('CV '+cat[0]+' F1-Score : ',F1_score)\r\n",
        "\r\n",
        "  y_pred=clf.predict(X_test)\r\n",
        "  y_pred_test[cat[0]]=y_pred\r\n",
        "\r\n",
        "  return clf"
      ],
      "execution_count": null,
      "outputs": []
    },
    {
      "cell_type": "code",
      "metadata": {
        "colab": {
          "base_uri": "https://localhost:8080/"
        },
        "id": "OdJ4svFATerr",
        "outputId": "594f3a9e-fb59-439c-cec3-52e6203765c2"
      },
      "source": [
        "baseline_models=[]\r\n",
        "y_pred_train=pd.DataFrame()\r\n",
        "y_pred_cv=pd.DataFrame()\r\n",
        "y_pred_test=pd.DataFrame()\r\n",
        "for index,value in enumerate(labels):\r\n",
        "  clf=train_base_model([value],11,150)\r\n",
        "  baseline_models.append(clf)"
      ],
      "execution_count": null,
      "outputs": [
        {
          "output_type": "stream",
          "text": [
            "Train  > 48 Months F1-Score :  0.69680237023857\n",
            "CV  > 48 Months F1-Score :  0.6575298585555662\n",
            "Train 12-18 Months F1-Score :  0.692193627126898\n",
            "CV 12-18 Months F1-Score :  0.5899303293904434\n",
            "Train 18-24 Months F1-Score :  0.6680298949738751\n",
            "CV 18-24 Months F1-Score :  0.610751793924319\n",
            "Train 24-30 Months F1-Score :  0.670774428642185\n",
            "CV 24-30 Months F1-Score :  0.6176741982678606\n",
            "Train 30-36 Months F1-Score :  0.6050971192531808\n",
            "CV 30-36 Months F1-Score :  0.5661176656089746\n",
            "Train 36-48 Months F1-Score :  0.5966419073152457\n",
            "CV 36-48 Months F1-Score :  0.553843088567934\n",
            "Train No Top-up Service F1-Score :  0.7844983446283278\n",
            "CV No Top-up Service F1-Score :  0.740141478613443\n"
          ],
          "name": "stdout"
        }
      ]
    },
    {
      "cell_type": "code",
      "metadata": {
        "id": "QLAyBE5jTgVh"
      },
      "source": [
        "X_train_stacked=pd.concat([X_train,y_pred_train],axis=1)\r\n",
        "X_cv_stacked=pd.concat([X_cv,y_pred_cv],axis=1)\r\n",
        "X_test_stacked=pd.concat([X_test,y_pred_test],axis=1)"
      ],
      "execution_count": null,
      "outputs": []
    },
    {
      "cell_type": "code",
      "metadata": {
        "colab": {
          "base_uri": "https://localhost:8080/"
        },
        "id": "NKpqpgPyTiAb",
        "outputId": "e275e665-5299-4365-cf3e-b776ec22a77b"
      },
      "source": [
        "clf_svm_stacked=OneVsRestClassifier(RandomForestClassifier(n_estimators=150, max_depth=11,random_state=42,class_weight='balanced'))\r\n",
        "clf_svm_stacked.fit(X_train_stacked,y_train)"
      ],
      "execution_count": null,
      "outputs": [
        {
          "output_type": "execute_result",
          "data": {
            "text/plain": [
              "OneVsRestClassifier(estimator=RandomForestClassifier(bootstrap=True,\n",
              "                                                     ccp_alpha=0.0,\n",
              "                                                     class_weight='balanced',\n",
              "                                                     criterion='gini',\n",
              "                                                     max_depth=11,\n",
              "                                                     max_features='auto',\n",
              "                                                     max_leaf_nodes=None,\n",
              "                                                     max_samples=None,\n",
              "                                                     min_impurity_decrease=0.0,\n",
              "                                                     min_impurity_split=None,\n",
              "                                                     min_samples_leaf=1,\n",
              "                                                     min_samples_split=2,\n",
              "                                                     min_weight_fraction_leaf=0.0,\n",
              "                                                     n_estimators=150,\n",
              "                                                     n_jobs=None,\n",
              "                                                     oob_score=False,\n",
              "                                                     random_state=42, verbose=0,\n",
              "                                                     warm_start=False),\n",
              "                    n_jobs=None)"
            ]
          },
          "metadata": {
            "tags": []
          },
          "execution_count": 62
        }
      ]
    },
    {
      "cell_type": "code",
      "metadata": {
        "colab": {
          "base_uri": "https://localhost:8080/"
        },
        "id": "u6MMTR3MTjVa",
        "outputId": "1e12a0ae-ecb3-471b-8b1c-62bfc22680bf"
      },
      "source": [
        "y_pred=clf_svm_stacked.predict(X_train_stacked)\r\n",
        "F1_score=f1_score(y_train,y_pred,average='macro')\r\n",
        "print('F1-Score : ',F1_score)"
      ],
      "execution_count": null,
      "outputs": [
        {
          "output_type": "stream",
          "text": [
            "F1-Score :  0.4858589446447998\n"
          ],
          "name": "stdout"
        }
      ]
    },
    {
      "cell_type": "code",
      "metadata": {
        "colab": {
          "base_uri": "https://localhost:8080/"
        },
        "id": "mvLogcfuTkj9",
        "outputId": "dec00634-eeeb-4507-bd43-f078eee0d630"
      },
      "source": [
        "y_pred=clf_svm_stacked.predict(X_cv_stacked)\r\n",
        "F1_score=f1_score(y_cv,y_pred,average='macro')\r\n",
        "print('F1-Score : ',F1_score)"
      ],
      "execution_count": null,
      "outputs": [
        {
          "output_type": "stream",
          "text": [
            "F1-Score :  0.3665209207434677\n"
          ],
          "name": "stdout"
        }
      ]
    },
    {
      "cell_type": "code",
      "metadata": {
        "id": "3y12D2kMTm4p"
      },
      "source": [
        "y_pred_test=pd.DataFrame(clf_svm_stacked.predict(X_test_stacked),columns=y_train.columns)"
      ],
      "execution_count": null,
      "outputs": []
    },
    {
      "cell_type": "code",
      "metadata": {
        "id": "85dQRCnbToGL"
      },
      "source": [
        "y_test_labels=np.argmax(y_pred_test.values,axis=1)\r\n",
        "top_up_test=[]\r\n",
        "for i in y_test_labels:\r\n",
        "  top_up_test.append(labels[i])\r\n",
        "test_ids=test_data['ID']\r\n",
        "predictions=pd.DataFrame(columns=['ID','Top-up Month'])\r\n",
        "predictions['ID']=test_ids\r\n",
        "predictions['Top-up Month']=top_up_test\r\n",
        "predictions.to_csv('FinalSubmission.csv',index=False)"
      ],
      "execution_count": null,
      "outputs": []
    },
    {
      "cell_type": "code",
      "metadata": {
        "colab": {
          "base_uri": "https://localhost:8080/",
          "height": 204
        },
        "id": "VSCVNbizTpm0",
        "outputId": "a9c865e0-aae7-4240-a6c0-5010fad28258"
      },
      "source": [
        "predictions.head()"
      ],
      "execution_count": null,
      "outputs": [
        {
          "output_type": "execute_result",
          "data": {
            "text/html": [
              "<div>\n",
              "<style scoped>\n",
              "    .dataframe tbody tr th:only-of-type {\n",
              "        vertical-align: middle;\n",
              "    }\n",
              "\n",
              "    .dataframe tbody tr th {\n",
              "        vertical-align: top;\n",
              "    }\n",
              "\n",
              "    .dataframe thead th {\n",
              "        text-align: right;\n",
              "    }\n",
              "</style>\n",
              "<table border=\"1\" class=\"dataframe\">\n",
              "  <thead>\n",
              "    <tr style=\"text-align: right;\">\n",
              "      <th></th>\n",
              "      <th>ID</th>\n",
              "      <th>Top-up Month</th>\n",
              "    </tr>\n",
              "  </thead>\n",
              "  <tbody>\n",
              "    <tr>\n",
              "      <th>0</th>\n",
              "      <td>4</td>\n",
              "      <td>No Top-up Service</td>\n",
              "    </tr>\n",
              "    <tr>\n",
              "      <th>1</th>\n",
              "      <td>5</td>\n",
              "      <td>&gt; 48 Months</td>\n",
              "    </tr>\n",
              "    <tr>\n",
              "      <th>2</th>\n",
              "      <td>6</td>\n",
              "      <td>No Top-up Service</td>\n",
              "    </tr>\n",
              "    <tr>\n",
              "      <th>3</th>\n",
              "      <td>25</td>\n",
              "      <td>No Top-up Service</td>\n",
              "    </tr>\n",
              "    <tr>\n",
              "      <th>4</th>\n",
              "      <td>119</td>\n",
              "      <td>No Top-up Service</td>\n",
              "    </tr>\n",
              "  </tbody>\n",
              "</table>\n",
              "</div>"
            ],
            "text/plain": [
              "    ID       Top-up Month\n",
              "0    4  No Top-up Service\n",
              "1    5        > 48 Months\n",
              "2    6  No Top-up Service\n",
              "3   25  No Top-up Service\n",
              "4  119  No Top-up Service"
            ]
          },
          "metadata": {
            "tags": []
          },
          "execution_count": 67
        }
      ]
    }
  ]
}